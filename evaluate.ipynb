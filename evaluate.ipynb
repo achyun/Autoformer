{
 "cells": [
  {
   "cell_type": "code",
   "execution_count": 1,
   "metadata": {},
   "outputs": [],
   "source": [
    "import pickle\n",
    "import os\n",
    "import torch\n",
    "import numpy as np\n",
    "import IPython.display as ipd\n",
    "from util.evaluate import Evaluator\n",
    "from factory.AutoVC import AutoVC\n",
    "from factory.MetaConv import MetaConv\n",
    "from factory.MetaPool import MetaPool\n",
    "from factory.AutoVC_Adjust import AutoVC_Adjust"
   ]
  },
  {
   "cell_type": "code",
   "execution_count": 8,
   "metadata": {},
   "outputs": [],
   "source": [
    "class Config:\n",
    "    def __init__(self,root):\n",
    "        self.root = root\n",
    "        self.num_speaker = 40\n",
    "        self.batch_size = 2\n",
    "        self.erroment_uttr_idx = 16\n",
    "        self.max_uttr_idx = 68\n",
    "        self.len_crop = 176\n",
    "        self.device = \"cuda:0\"\n",
    "        self.judge = torch.load('model/static/metadv_vctk80.pt').to(self.device)\n",
    "        self.all_speaker = sorted(next(iter(os.walk(root)))[1][:self.num_speaker])\n",
    "        self.metadata = pickle.load(open(f'{root}/train.pkl', \"rb\"))[:self.num_speaker]"
   ]
  },
  {
   "cell_type": "code",
   "execution_count": 9,
   "metadata": {},
   "outputs": [],
   "source": [
    "config = Config('train_data_vctk_ver2')"
   ]
  },
  {
   "cell_type": "code",
   "execution_count": 4,
   "metadata": {},
   "outputs": [
    {
     "data": {
      "text/plain": [
       "<All keys matched successfully>"
      ]
     },
     "execution_count": 4,
     "metadata": {},
     "output_type": "execute_result"
    }
   ],
   "source": [
    "\n",
    "isAdjust = False\n",
    "org = AutoVC(44,256,512,22).to(config.device)\n",
    "org.load_state_dict(torch.load(\"model/autovc_en.pt\", map_location=config.device))\n",
    "\n",
    "pool = MetaPool(44,256,512,22).to(config.device)\n",
    "pool.load_state_dict(torch.load(\"model/metapool_en.pt\", map_location=config.device))\n",
    "\n",
    "conv = MetaConv(44,256,512,22).to(config.device)\n",
    "conv.load_state_dict(torch.load(\"model/metaconv_en.pt\", map_location=config.device))\n"
   ]
  },
  {
   "cell_type": "code",
   "execution_count": 5,
   "metadata": {},
   "outputs": [],
   "source": [
    "#isAdjust = True\n",
    "#org_ad = AutoVC_Adjust(44,256,512,22).to(config.device)\n",
    "#org_ad.load_state_dict(torch.load(\"model/autovc_adjust_en.pt\", map_location=config.device))"
   ]
  },
  {
   "cell_type": "code",
   "execution_count": 10,
   "metadata": {
    "scrolled": true
   },
   "outputs": [
    {
     "name": "stdout",
     "output_type": "stream",
     "text": [
      "Detect Judge ! generate all Real Data d-vector\n",
      "Processing --- ID:0 Speaker:p225 ---\n"
     ]
    },
    {
     "ename": "AttributeError",
     "evalue": "'tuple' object has no attribute 'detach'",
     "output_type": "error",
     "traceback": [
      "\u001b[1;31m---------------------------------------------------------------------------\u001b[0m",
      "\u001b[1;31mAttributeError\u001b[0m                            Traceback (most recent call last)",
      "\u001b[1;32m<ipython-input-10-2a328c905213>\u001b[0m in \u001b[0;36m<module>\u001b[1;34m\u001b[0m\n\u001b[1;32m----> 1\u001b[1;33m \u001b[0mE\u001b[0m \u001b[1;33m=\u001b[0m \u001b[0mEvaluator\u001b[0m\u001b[1;33m(\u001b[0m\u001b[0mconfig\u001b[0m\u001b[1;33m)\u001b[0m\u001b[1;33m\u001b[0m\u001b[1;33m\u001b[0m\u001b[0m\n\u001b[0m",
      "\u001b[1;32mC:\\Lab\\Autoformer\\util\\evaluate.py\u001b[0m in \u001b[0;36m__init__\u001b[1;34m(self, config)\u001b[0m\n\u001b[0;32m     25\u001b[0m         \u001b[1;32mif\u001b[0m \u001b[0mself\u001b[0m\u001b[1;33m.\u001b[0m\u001b[0mjudge\u001b[0m \u001b[1;33m!=\u001b[0m \u001b[1;32mNone\u001b[0m\u001b[1;33m:\u001b[0m\u001b[1;33m\u001b[0m\u001b[1;33m\u001b[0m\u001b[0m\n\u001b[0;32m     26\u001b[0m             \u001b[0mprint\u001b[0m\u001b[1;33m(\u001b[0m\u001b[1;34m\"Detect Judge ! generate all Real Data d-vector\"\u001b[0m\u001b[1;33m)\u001b[0m\u001b[1;33m\u001b[0m\u001b[1;33m\u001b[0m\u001b[0m\n\u001b[1;32m---> 27\u001b[1;33m             \u001b[0mself\u001b[0m\u001b[1;33m.\u001b[0m\u001b[0mall_dv\u001b[0m \u001b[1;33m=\u001b[0m \u001b[0mself\u001b[0m\u001b[1;33m.\u001b[0m\u001b[0mgenerate_real_dv\u001b[0m\u001b[1;33m(\u001b[0m\u001b[1;33m)\u001b[0m\u001b[1;33m\u001b[0m\u001b[1;33m\u001b[0m\u001b[0m\n\u001b[0m\u001b[0;32m     28\u001b[0m \u001b[1;33m\u001b[0m\u001b[0m\n\u001b[0;32m     29\u001b[0m     \u001b[1;32mdef\u001b[0m \u001b[0mbuild_metadata\u001b[0m\u001b[1;33m(\u001b[0m\u001b[0mself\u001b[0m\u001b[1;33m,\u001b[0m \u001b[0mmetadata\u001b[0m\u001b[1;33m)\u001b[0m\u001b[1;33m:\u001b[0m\u001b[1;33m\u001b[0m\u001b[1;33m\u001b[0m\u001b[0m\n",
      "\u001b[1;32mC:\\Lab\\Autoformer\\util\\evaluate.py\u001b[0m in \u001b[0;36mgenerate_real_dv\u001b[1;34m(self)\u001b[0m\n\u001b[0;32m    104\u001b[0m         \u001b[1;32mfor\u001b[0m \u001b[0mi\u001b[0m\u001b[1;33m,\u001b[0m \u001b[0mspeaker\u001b[0m \u001b[1;32min\u001b[0m \u001b[0menumerate\u001b[0m\u001b[1;33m(\u001b[0m\u001b[0mself\u001b[0m\u001b[1;33m.\u001b[0m\u001b[0mall_speaker\u001b[0m\u001b[1;33m)\u001b[0m\u001b[1;33m:\u001b[0m\u001b[1;33m\u001b[0m\u001b[1;33m\u001b[0m\u001b[0m\n\u001b[0;32m    105\u001b[0m             \u001b[0mprint\u001b[0m\u001b[1;33m(\u001b[0m\u001b[1;34mf\"Processing --- ID:{i} Speaker:{speaker} ---\"\u001b[0m\u001b[1;33m)\u001b[0m\u001b[1;33m\u001b[0m\u001b[1;33m\u001b[0m\u001b[0m\n\u001b[1;32m--> 106\u001b[1;33m             \u001b[0mall_dv\u001b[0m\u001b[1;33m.\u001b[0m\u001b[0mappend\u001b[0m\u001b[1;33m(\u001b[0m\u001b[0mself\u001b[0m\u001b[1;33m.\u001b[0m\u001b[0mget_dv\u001b[0m\u001b[1;33m(\u001b[0m\u001b[0mi\u001b[0m\u001b[1;33m)\u001b[0m\u001b[1;33m)\u001b[0m\u001b[1;33m\u001b[0m\u001b[1;33m\u001b[0m\u001b[0m\n\u001b[0m\u001b[0;32m    107\u001b[0m         \u001b[1;32mreturn\u001b[0m \u001b[0mall_dv\u001b[0m\u001b[1;33m\u001b[0m\u001b[1;33m\u001b[0m\u001b[0m\n\u001b[0;32m    108\u001b[0m \u001b[1;33m\u001b[0m\u001b[0m\n",
      "\u001b[1;32mC:\\Lab\\Autoformer\\util\\evaluate.py\u001b[0m in \u001b[0;36mget_dv\u001b[1;34m(self, speaker_id)\u001b[0m\n\u001b[0;32m     96\u001b[0m             \u001b[0mmel\u001b[0m\u001b[1;33m,\u001b[0m \u001b[0m_\u001b[0m \u001b[1;33m=\u001b[0m \u001b[0mself\u001b[0m\u001b[1;33m.\u001b[0m\u001b[0mget_mel\u001b[0m\u001b[1;33m(\u001b[0m\u001b[0mspeaker_id\u001b[0m\u001b[1;33m,\u001b[0m \u001b[0mrandom\u001b[0m\u001b[1;33m.\u001b[0m\u001b[0mrandint\u001b[0m\u001b[1;33m(\u001b[0m\u001b[1;36m2\u001b[0m\u001b[1;33m,\u001b[0m \u001b[0mself\u001b[0m\u001b[1;33m.\u001b[0m\u001b[0mmax_uttr_idx\u001b[0m\u001b[1;33m)\u001b[0m\u001b[1;33m)\u001b[0m\u001b[1;33m\u001b[0m\u001b[1;33m\u001b[0m\u001b[0m\n\u001b[0;32m     97\u001b[0m             \u001b[1;31m# _dv += self.judge(mel)[1].detach().cpu()\u001b[0m\u001b[1;33m\u001b[0m\u001b[1;33m\u001b[0m\u001b[1;33m\u001b[0m\u001b[0m\n\u001b[1;32m---> 98\u001b[1;33m             \u001b[0m_dv\u001b[0m \u001b[1;33m+=\u001b[0m \u001b[0mself\u001b[0m\u001b[1;33m.\u001b[0m\u001b[0mjudge\u001b[0m\u001b[1;33m(\u001b[0m\u001b[0mmel\u001b[0m\u001b[1;33m)\u001b[0m\u001b[1;33m.\u001b[0m\u001b[0mdetach\u001b[0m\u001b[1;33m(\u001b[0m\u001b[1;33m)\u001b[0m\u001b[1;33m.\u001b[0m\u001b[0mcpu\u001b[0m\u001b[1;33m(\u001b[0m\u001b[1;33m)\u001b[0m\u001b[1;33m\u001b[0m\u001b[1;33m\u001b[0m\u001b[0m\n\u001b[0m\u001b[0;32m     99\u001b[0m         \u001b[0m_dv\u001b[0m \u001b[1;33m=\u001b[0m \u001b[0m_dv\u001b[0m \u001b[1;33m/\u001b[0m \u001b[1;33m(\u001b[0m\u001b[0mself\u001b[0m\u001b[1;33m.\u001b[0m\u001b[0merroment_uttr_idx\u001b[0m\u001b[1;33m)\u001b[0m\u001b[1;33m\u001b[0m\u001b[1;33m\u001b[0m\u001b[0m\n\u001b[0;32m    100\u001b[0m         \u001b[1;32mreturn\u001b[0m \u001b[0m_dv\u001b[0m\u001b[1;33m.\u001b[0m\u001b[0mto\u001b[0m\u001b[1;33m(\u001b[0m\u001b[0mself\u001b[0m\u001b[1;33m.\u001b[0m\u001b[0mdevice\u001b[0m\u001b[1;33m)\u001b[0m\u001b[1;33m\u001b[0m\u001b[1;33m\u001b[0m\u001b[0m\n",
      "\u001b[1;31mAttributeError\u001b[0m: 'tuple' object has no attribute 'detach'"
     ]
    }
   ],
   "source": [
    "E = Evaluator(config)"
   ]
  },
  {
   "cell_type": "code",
   "execution_count": 7,
   "metadata": {
    "scrolled": true
   },
   "outputs": [
    {
     "name": "stdout",
     "output_type": "stream",
     "text": [
      "Processing --- ID:0 Speaker:p225 ---\n",
      "Processing --- ID:1 Speaker:p226 ---\n",
      "Processing --- ID:2 Speaker:p227 ---\n",
      "Processing --- ID:3 Speaker:p228 ---\n",
      "Processing --- ID:4 Speaker:p229 ---\n"
     ]
    }
   ],
   "source": [
    "real_cos_result= E.get_real_data_cos()"
   ]
  },
  {
   "cell_type": "code",
   "execution_count": 8,
   "metadata": {},
   "outputs": [
    {
     "data": {
      "text/plain": [
       "(0.9492713689804078, 0.7726693868637085)"
      ]
     },
     "execution_count": 8,
     "metadata": {},
     "output_type": "execute_result"
    }
   ],
   "source": [
    "np.diagonal(real_cos_result).mean(), (np.sum(real_cos_result) - (np.sum(np.diagonal(real_cos_result)))) /(config.num_speaker*(config.num_speaker-1))"
   ]
  },
  {
   "cell_type": "code",
   "execution_count": 9,
   "metadata": {
    "scrolled": true
   },
   "outputs": [
    {
     "name": "stdout",
     "output_type": "stream",
     "text": [
      "Now Processing --- p225\n",
      "Reconstruct ---- p225 to p225\n",
      "Trans --- p225 to p226\n",
      "Trans --- p225 to p227\n",
      "Trans --- p225 to p228\n",
      "Trans --- p225 to p229\n",
      "Now Processing --- p226\n",
      "Trans --- p226 to p225\n",
      "Reconstruct ---- p226 to p226\n",
      "Trans --- p226 to p227\n",
      "Trans --- p226 to p228\n",
      "Trans --- p226 to p229\n",
      "Now Processing --- p227\n",
      "Trans --- p227 to p225\n",
      "Trans --- p227 to p226\n",
      "Reconstruct ---- p227 to p227\n",
      "Trans --- p227 to p228\n",
      "Trans --- p227 to p229\n",
      "Now Processing --- p228\n",
      "Trans --- p228 to p225\n",
      "Trans --- p228 to p226\n",
      "Trans --- p228 to p227\n",
      "Reconstruct ---- p228 to p228\n",
      "Trans --- p228 to p229\n",
      "Now Processing --- p229\n",
      "Trans --- p229 to p225\n",
      "Trans --- p229 to p226\n",
      "Trans --- p229 to p227\n",
      "Trans --- p229 to p228\n",
      "Reconstruct ---- p229 to p229\n"
     ]
    }
   ],
   "source": [
    "org_cos_result = E.generate_result([org],isAdjust)"
   ]
  },
  {
   "cell_type": "code",
   "execution_count": 10,
   "metadata": {
    "scrolled": true
   },
   "outputs": [
    {
     "name": "stdout",
     "output_type": "stream",
     "text": [
      "Now Processing --- p225\n",
      "Reconstruct ---- p225 to p225\n",
      "Trans --- p225 to p226\n",
      "Trans --- p225 to p227\n",
      "Trans --- p225 to p228\n",
      "Trans --- p225 to p229\n",
      "Now Processing --- p226\n",
      "Trans --- p226 to p225\n",
      "Reconstruct ---- p226 to p226\n",
      "Trans --- p226 to p227\n",
      "Trans --- p226 to p228\n",
      "Trans --- p226 to p229\n",
      "Now Processing --- p227\n",
      "Trans --- p227 to p225\n",
      "Trans --- p227 to p226\n",
      "Reconstruct ---- p227 to p227\n",
      "Trans --- p227 to p228\n",
      "Trans --- p227 to p229\n",
      "Now Processing --- p228\n",
      "Trans --- p228 to p225\n",
      "Trans --- p228 to p226\n",
      "Trans --- p228 to p227\n",
      "Reconstruct ---- p228 to p228\n",
      "Trans --- p228 to p229\n",
      "Now Processing --- p229\n",
      "Trans --- p229 to p225\n",
      "Trans --- p229 to p226\n",
      "Trans --- p229 to p227\n",
      "Trans --- p229 to p228\n",
      "Reconstruct ---- p229 to p229\n"
     ]
    }
   ],
   "source": [
    "pool_cos_result = E.generate_result([pool],isAdjust)"
   ]
  },
  {
   "cell_type": "code",
   "execution_count": 11,
   "metadata": {
    "scrolled": true
   },
   "outputs": [
    {
     "name": "stdout",
     "output_type": "stream",
     "text": [
      "Now Processing --- p225\n",
      "Reconstruct ---- p225 to p225\n",
      "Trans --- p225 to p226\n",
      "Trans --- p225 to p227\n",
      "Trans --- p225 to p228\n",
      "Trans --- p225 to p229\n",
      "Now Processing --- p226\n",
      "Trans --- p226 to p225\n",
      "Reconstruct ---- p226 to p226\n",
      "Trans --- p226 to p227\n",
      "Trans --- p226 to p228\n",
      "Trans --- p226 to p229\n",
      "Now Processing --- p227\n",
      "Trans --- p227 to p225\n",
      "Trans --- p227 to p226\n",
      "Reconstruct ---- p227 to p227\n",
      "Trans --- p227 to p228\n",
      "Trans --- p227 to p229\n",
      "Now Processing --- p228\n",
      "Trans --- p228 to p225\n",
      "Trans --- p228 to p226\n",
      "Trans --- p228 to p227\n",
      "Reconstruct ---- p228 to p228\n",
      "Trans --- p228 to p229\n",
      "Now Processing --- p229\n",
      "Trans --- p229 to p225\n",
      "Trans --- p229 to p226\n",
      "Trans --- p229 to p227\n",
      "Trans --- p229 to p228\n",
      "Reconstruct ---- p229 to p229\n"
     ]
    }
   ],
   "source": [
    "conv_cos_result = E.generate_result([conv],isAdjust)"
   ]
  },
  {
   "cell_type": "code",
   "execution_count": 14,
   "metadata": {},
   "outputs": [
    {
     "data": {
      "text/plain": [
       "(0.9516497850418091, 0.946908175945282, 0.939293360710144)"
      ]
     },
     "execution_count": 14,
     "metadata": {},
     "output_type": "execute_result"
    }
   ],
   "source": [
    "E.get_cos_rc(org_cos_result[0])[0],E.get_cos_rc(pool_cos_result[0])[0],E.get_cos_rc(conv_cos_result[0])[0]"
   ]
  },
  {
   "cell_type": "code",
   "execution_count": 15,
   "metadata": {},
   "outputs": [
    {
     "data": {
      "text/plain": [
       "(0.9536625027656556, 0.9296765953302384, 0.9245863527059555)"
      ]
     },
     "execution_count": 15,
     "metadata": {},
     "output_type": "execute_result"
    }
   ],
   "source": [
    "E.get_cos_trans(org_cos_result[0])[0],E.get_cos_trans(pool_cos_result[0])[0],E.get_cos_trans(conv_cos_result[0])[0]"
   ]
  },
  {
   "cell_type": "code",
   "execution_count": null,
   "metadata": {},
   "outputs": [],
   "source": []
  },
  {
   "cell_type": "code",
   "execution_count": null,
   "metadata": {},
   "outputs": [],
   "source": []
  },
  {
   "cell_type": "code",
   "execution_count": null,
   "metadata": {
    "scrolled": true
   },
   "outputs": [],
   "source": [
    "all_rc_result = []\n",
    "all_o_rc_result = []\n",
    "all_trans_result = []\n",
    "all_o_trans_result = []\n",
    "for _ in range(4):\n",
    "    all_cos_result = E.generate_result([org],isAdjust)\n",
    "    rc,o_rc = E.get_cos_rc(all_cos_result[0])\n",
    "    trans,o_trans = E.get_cos_trans(all_cos_result[0])\n",
    "    all_rc_result.append(rc)\n",
    "    all_o_rc_result.append(o_rc)\n",
    "    all_trans_result.append(trans)\n",
    "    all_o_trans_result.append(o_trans)"
   ]
  },
  {
   "cell_type": "code",
   "execution_count": null,
   "metadata": {},
   "outputs": [],
   "source": [
    "np.array(all_rc_result).mean(),np.array(all_trans_result).mean()"
   ]
  },
  {
   "cell_type": "code",
   "execution_count": null,
   "metadata": {},
   "outputs": [],
   "source": [
    "np.array(all_o_rc_result).mean(),np.array(all_o_trans_result).mean()"
   ]
  },
  {
   "cell_type": "code",
   "execution_count": null,
   "metadata": {},
   "outputs": [],
   "source": [
    "np.array(all_rc_result).std(),np.array(all_trans_result).std()"
   ]
  },
  {
   "cell_type": "code",
   "execution_count": null,
   "metadata": {},
   "outputs": [],
   "source": [
    "np.array(all_o_rc_result).std(),np.array(all_o_trans_result).std()"
   ]
  },
  {
   "cell_type": "code",
   "execution_count": null,
   "metadata": {},
   "outputs": [],
   "source": []
  }
 ],
 "metadata": {
  "kernelspec": {
   "display_name": "Python 3",
   "language": "python",
   "name": "python3"
  },
  "language_info": {
   "codemirror_mode": {
    "name": "ipython",
    "version": 3
   },
   "file_extension": ".py",
   "mimetype": "text/x-python",
   "name": "python",
   "nbconvert_exporter": "python",
   "pygments_lexer": "ipython3",
   "version": "3.7.9"
  }
 },
 "nbformat": 4,
 "nbformat_minor": 4
}
