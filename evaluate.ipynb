{
 "cells": [
  {
   "cell_type": "code",
   "execution_count": 1,
   "metadata": {},
   "outputs": [],
   "source": [
    "import pickle\n",
    "import os\n",
    "import torch\n",
    "import numpy as np\n",
    "import IPython.display as ipd\n",
    "from util.evaluate import Evaluator\n",
    "from factory.AutoVC_Adjust import AutoVC_Adjust"
   ]
  },
  {
   "cell_type": "code",
   "execution_count": 2,
   "metadata": {},
   "outputs": [],
   "source": [
    "class Config:\n",
    "    def __init__(self,root):\n",
    "        self.root = root\n",
    "        self.num_speaker = 5\n",
    "        self.batch_size = 2\n",
    "        self.erroment_uttr_idx = 16\n",
    "        self.max_uttr_idx = 60\n",
    "        self.len_crop = 176\n",
    "        self.device = \"cuda:0\"\n",
    "        self.judge = torch.load('model/static/metadv_en_openslr.pt').to(self.device)\n",
    "        self.all_speaker = sorted(next(iter(os.walk(root)))[1][:self.num_speaker])\n",
    "        self.metadata = pickle.load(open(f'{root}/train.pkl', \"rb\"))[:self.num_speaker]"
   ]
  },
  {
   "cell_type": "code",
   "execution_count": 3,
   "metadata": {},
   "outputs": [],
   "source": [
    "config = Config('train_data')"
   ]
  },
  {
   "cell_type": "code",
   "execution_count": 4,
   "metadata": {},
   "outputs": [
    {
     "data": {
      "text/plain": [
       "<All keys matched successfully>"
      ]
     },
     "execution_count": 4,
     "metadata": {},
     "output_type": "execute_result"
    }
   ],
   "source": [
    "org_ad = AutoVC_Adjust(44,256,512,22).to(config.device)\n",
    "org_ad.load_state_dict(torch.load(\"model/autovc_adjust_en.pt\", map_location=config.device))"
   ]
  },
  {
   "cell_type": "code",
   "execution_count": 5,
   "metadata": {
    "scrolled": true
   },
   "outputs": [
    {
     "name": "stdout",
     "output_type": "stream",
     "text": [
      "Detect Judge ! generate all Real Data d-vector\n",
      "Processing --- ID:0 Speaker:p225 ---\n",
      "Processing --- ID:1 Speaker:p226 ---\n",
      "Processing --- ID:2 Speaker:p227 ---\n",
      "Processing --- ID:3 Speaker:p228 ---\n",
      "Processing --- ID:4 Speaker:p229 ---\n"
     ]
    }
   ],
   "source": [
    "E = Evaluator(config)"
   ]
  },
  {
   "cell_type": "code",
   "execution_count": 6,
   "metadata": {
    "scrolled": true
   },
   "outputs": [
    {
     "name": "stdout",
     "output_type": "stream",
     "text": [
      "Processing --- ID:0 Speaker:p225 ---\n",
      "Processing --- ID:1 Speaker:p226 ---\n",
      "Processing --- ID:2 Speaker:p227 ---\n",
      "Processing --- ID:3 Speaker:p228 ---\n",
      "Processing --- ID:4 Speaker:p229 ---\n"
     ]
    }
   ],
   "source": [
    "real_cos_result = E.get_real_data_result()"
   ]
  },
  {
   "cell_type": "code",
   "execution_count": 7,
   "metadata": {},
   "outputs": [
    {
     "data": {
      "text/plain": [
       "(0.9059524297714233, 0.6535484880208969)"
      ]
     },
     "execution_count": 7,
     "metadata": {},
     "output_type": "execute_result"
    }
   ],
   "source": [
    "np.diagonal(real_cos_result).mean(), (np.sum(real_cos_result) - (np.sum(np.diagonal(real_cos_result)))) /(config.num_speaker*(config.num_speaker-1))"
   ]
  },
  {
   "cell_type": "code",
   "execution_count": 8,
   "metadata": {
    "scrolled": true
   },
   "outputs": [
    {
     "name": "stdout",
     "output_type": "stream",
     "text": [
      "Now Processing --- p225\n",
      "Reconstruct ---- p225 to p225\n",
      "Trans --- p225 to p226\n",
      "Trans --- p225 to p227\n",
      "Trans --- p225 to p228\n",
      "Trans --- p225 to p229\n",
      "Now Processing --- p226\n",
      "Trans --- p226 to p225\n",
      "Reconstruct ---- p226 to p226\n",
      "Trans --- p226 to p227\n",
      "Trans --- p226 to p228\n",
      "Trans --- p226 to p229\n",
      "Now Processing --- p227\n",
      "Trans --- p227 to p225\n",
      "Trans --- p227 to p226\n",
      "Reconstruct ---- p227 to p227\n",
      "Trans --- p227 to p228\n",
      "Trans --- p227 to p229\n",
      "Now Processing --- p228\n",
      "Trans --- p228 to p225\n",
      "Trans --- p228 to p226\n",
      "Trans --- p228 to p227\n",
      "Reconstruct ---- p228 to p228\n",
      "Trans --- p228 to p229\n",
      "Now Processing --- p229\n",
      "Trans --- p229 to p225\n",
      "Trans --- p229 to p226\n",
      "Trans --- p229 to p227\n",
      "Trans --- p229 to p228\n",
      "Reconstruct ---- p229 to p229\n"
     ]
    }
   ],
   "source": [
    "all_cos_result = E.generate_result([org_ad],True)"
   ]
  },
  {
   "cell_type": "code",
   "execution_count": 10,
   "metadata": {},
   "outputs": [
    {
     "data": {
      "text/plain": [
       "(0.9357142686843872, 0.7151624381542205)"
      ]
     },
     "execution_count": 10,
     "metadata": {},
     "output_type": "execute_result"
    }
   ],
   "source": [
    "E.get_cos_rc(all_cos_result[0])"
   ]
  },
  {
   "cell_type": "code",
   "execution_count": 12,
   "metadata": {},
   "outputs": [
    {
     "data": {
      "text/plain": [
       "(0.8844038188457489, 0.759699838757515)"
      ]
     },
     "execution_count": 12,
     "metadata": {},
     "output_type": "execute_result"
    }
   ],
   "source": [
    "E.get_cos_trans(all_cos_result[0])"
   ]
  }
 ],
 "metadata": {
  "kernelspec": {
   "display_name": "Python 3",
   "language": "python",
   "name": "python3"
  },
  "language_info": {
   "codemirror_mode": {
    "name": "ipython",
    "version": 3
   },
   "file_extension": ".py",
   "mimetype": "text/x-python",
   "name": "python",
   "nbconvert_exporter": "python",
   "pygments_lexer": "ipython3",
   "version": "3.7.9"
  }
 },
 "nbformat": 4,
 "nbformat_minor": 4
}
