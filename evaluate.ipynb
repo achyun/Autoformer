{
 "cells": [
  {
   "cell_type": "code",
   "execution_count": 1,
   "metadata": {},
   "outputs": [],
   "source": [
    "import pickle\n",
    "import os\n",
    "import torch\n",
    "import numpy as np\n",
    "import IPython.display as ipd\n",
    "from util.evaluate import Evaluator\n",
    "from factory.AutoVC_Adjust import AutoVC_Adjust"
   ]
  },
  {
   "cell_type": "code",
   "execution_count": 2,
   "metadata": {},
   "outputs": [],
   "source": [
    "class Config:\n",
    "    def __init__(self,root):\n",
    "        self.root = root\n",
    "        self.num_speaker = 40\n",
    "        self.batch_size = 2\n",
    "        self.erroment_uttr_idx = 16\n",
    "        self.max_uttr_idx = 68\n",
    "        self.len_crop = 176\n",
    "        self.device = \"cuda:0\"\n",
    "        self.x_fid_style = np.load(\"model/static/x_style.npy\",allow_pickle=True)\n",
    "        self.judge = torch.load('model/static/metadv_en_openslr.pt').to(self.device)\n",
    "        self.all_speaker = sorted(next(iter(os.walk(root)))[1][:self.num_speaker])\n",
    "        self.metadata = pickle.load(open(f'{root}/train.pkl', \"rb\"))[:self.num_speaker]"
   ]
  },
  {
   "cell_type": "code",
   "execution_count": 3,
   "metadata": {},
   "outputs": [],
   "source": [
    "config = Config('train_data_vctk_ver2')"
   ]
  },
  {
   "cell_type": "code",
   "execution_count": 4,
   "metadata": {},
   "outputs": [
    {
     "data": {
      "text/plain": [
       "<All keys matched successfully>"
      ]
     },
     "execution_count": 4,
     "metadata": {},
     "output_type": "execute_result"
    }
   ],
   "source": [
    "org_ad = AutoVC_Adjust(44,256,512,22).to(config.device)\n",
    "org_ad.load_state_dict(torch.load(\"model/autovc_adjust_gan_en.pt\", map_location=config.device))"
   ]
  },
  {
   "cell_type": "code",
   "execution_count": 5,
   "metadata": {
    "scrolled": true
   },
   "outputs": [
    {
     "name": "stdout",
     "output_type": "stream",
     "text": [
      "Detect Judge ! generate all Real Data d-vector\n",
      "Processing --- ID:0 Speaker:p225 ---\n",
      "Processing --- ID:1 Speaker:p226 ---\n",
      "Processing --- ID:2 Speaker:p227 ---\n",
      "Processing --- ID:3 Speaker:p228 ---\n",
      "Processing --- ID:4 Speaker:p229 ---\n",
      "Processing --- ID:5 Speaker:p230 ---\n",
      "Processing --- ID:6 Speaker:p231 ---\n",
      "Processing --- ID:7 Speaker:p232 ---\n",
      "Processing --- ID:8 Speaker:p233 ---\n",
      "Processing --- ID:9 Speaker:p234 ---\n",
      "Processing --- ID:10 Speaker:p236 ---\n",
      "Processing --- ID:11 Speaker:p237 ---\n",
      "Processing --- ID:12 Speaker:p238 ---\n",
      "Processing --- ID:13 Speaker:p239 ---\n",
      "Processing --- ID:14 Speaker:p240 ---\n",
      "Processing --- ID:15 Speaker:p241 ---\n",
      "Processing --- ID:16 Speaker:p243 ---\n",
      "Processing --- ID:17 Speaker:p244 ---\n",
      "Processing --- ID:18 Speaker:p245 ---\n",
      "Processing --- ID:19 Speaker:p246 ---\n",
      "Processing --- ID:20 Speaker:p247 ---\n",
      "Processing --- ID:21 Speaker:p248 ---\n",
      "Processing --- ID:22 Speaker:p249 ---\n",
      "Processing --- ID:23 Speaker:p250 ---\n",
      "Processing --- ID:24 Speaker:p251 ---\n",
      "Processing --- ID:25 Speaker:p252 ---\n",
      "Processing --- ID:26 Speaker:p253 ---\n",
      "Processing --- ID:27 Speaker:p254 ---\n",
      "Processing --- ID:28 Speaker:p255 ---\n",
      "Processing --- ID:29 Speaker:p256 ---\n",
      "Processing --- ID:30 Speaker:p257 ---\n",
      "Processing --- ID:31 Speaker:p258 ---\n",
      "Processing --- ID:32 Speaker:p259 ---\n",
      "Processing --- ID:33 Speaker:p260 ---\n",
      "Processing --- ID:34 Speaker:p261 ---\n",
      "Processing --- ID:35 Speaker:p262 ---\n",
      "Processing --- ID:36 Speaker:p263 ---\n",
      "Processing --- ID:37 Speaker:p264 ---\n",
      "Processing --- ID:38 Speaker:p265 ---\n",
      "Processing --- ID:39 Speaker:p266 ---\n"
     ]
    }
   ],
   "source": [
    "E = Evaluator(config)"
   ]
  },
  {
   "cell_type": "code",
   "execution_count": null,
   "metadata": {},
   "outputs": [
    {
     "name": "stdout",
     "output_type": "stream",
     "text": [
      "Processing p225\n",
      "Processing p226\n"
     ]
    }
   ],
   "source": [
    "all_fid = E.get_fid_result(org_ad,True)"
   ]
  },
  {
   "cell_type": "code",
   "execution_count": null,
   "metadata": {},
   "outputs": [],
   "source": [
    "np.save(\"fid\",all_fid)"
   ]
  },
  {
   "cell_type": "code",
   "execution_count": null,
   "metadata": {},
   "outputs": [],
   "source": []
  },
  {
   "cell_type": "code",
   "execution_count": null,
   "metadata": {},
   "outputs": [],
   "source": []
  },
  {
   "cell_type": "code",
   "execution_count": null,
   "metadata": {
    "scrolled": true
   },
   "outputs": [],
   "source": [
    "real_cos_result,real_fid_result = E.get_real_data_result()"
   ]
  },
  {
   "cell_type": "code",
   "execution_count": null,
   "metadata": {},
   "outputs": [],
   "source": [
    "real_fid_result"
   ]
  },
  {
   "cell_type": "code",
   "execution_count": null,
   "metadata": {},
   "outputs": [],
   "source": [
    "np.diagonal(real_cos_result).mean(), (np.sum(real_cos_result) - (np.sum(np.diagonal(real_cos_result)))) /(config.num_speaker*(config.num_speaker-1))"
   ]
  },
  {
   "cell_type": "code",
   "execution_count": null,
   "metadata": {},
   "outputs": [],
   "source": [
    "all_cos_result,all_fid = E.generate_result([org_ad],True)"
   ]
  },
  {
   "cell_type": "code",
   "execution_count": null,
   "metadata": {},
   "outputs": [],
   "source": [
    "all_fid[0][0].mean(),all_fid[0][1].mean(),all_fid[0][2].mean(),all_fid[0][3].mean()"
   ]
  },
  {
   "cell_type": "code",
   "execution_count": null,
   "metadata": {
    "scrolled": true
   },
   "outputs": [],
   "source": [
    "all_rc_result = []\n",
    "all_o_rc_result = []\n",
    "all_trans_result = []\n",
    "all_o_trans_result = []\n",
    "fid_result = []\n",
    "for _ in range(1):\n",
    "    all_cos_result = E.generate_result([org_ad],True)\n",
    "    rc,o_rc = E.get_cos_rc(all_cos_result[0])\n",
    "    trans,o_trans = E.get_cos_trans(all_cos_result[0])\n",
    "    all_rc_result.append(rc)\n",
    "    all_o_rc_result.append(o_rc)\n",
    "    all_trans_result.append(trans)\n",
    "    all_o_trans_result.append(o_trans)"
   ]
  },
  {
   "cell_type": "code",
   "execution_count": null,
   "metadata": {},
   "outputs": [],
   "source": [
    "np.array(all_rc_result).mean(),np.array(all_trans_result).mean()"
   ]
  },
  {
   "cell_type": "code",
   "execution_count": null,
   "metadata": {},
   "outputs": [],
   "source": [
    "np.array(all_o_rc_result).mean(),np.array(all_o_trans_result).mean()"
   ]
  },
  {
   "cell_type": "code",
   "execution_count": null,
   "metadata": {},
   "outputs": [],
   "source": [
    "np.array(all_rc_result).std(),np.array(all_trans_result).std()"
   ]
  },
  {
   "cell_type": "code",
   "execution_count": null,
   "metadata": {},
   "outputs": [],
   "source": [
    "np.array(all_o_rc_result).std(),np.array(all_o_trans_result).std()"
   ]
  },
  {
   "cell_type": "code",
   "execution_count": null,
   "metadata": {},
   "outputs": [],
   "source": []
  }
 ],
 "metadata": {
  "kernelspec": {
   "display_name": "Python 3",
   "language": "python",
   "name": "python3"
  },
  "language_info": {
   "codemirror_mode": {
    "name": "ipython",
    "version": 3
   },
   "file_extension": ".py",
   "mimetype": "text/x-python",
   "name": "python",
   "nbconvert_exporter": "python",
   "pygments_lexer": "ipython3",
   "version": "3.7.9"
  }
 },
 "nbformat": 4,
 "nbformat_minor": 4
}
